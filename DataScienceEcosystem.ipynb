{
 "cells": [
  {
   "cell_type": "markdown",
   "id": "b74d41f0",
   "metadata": {},
   "source": [
    "# Data Science Tools and Ecosystem"
   ]
  },
  {
   "cell_type": "markdown",
   "id": "155a38a0",
   "metadata": {},
   "source": [
    "In this notebook, Data Science Tools and Ecosystem are summarized"
   ]
  },
  {
   "cell_type": "markdown",
   "id": "5208b229",
   "metadata": {},
   "source": [
    "**Objectives:**\n",
    "\n",
    "- List popular languages for Data Science  \n",
    "- Understand the basics of Jupyter Notebooks  \n",
    "- Convert units using Python code  \n",
    "- Learn about open source tools used in data science  \n",
    "- Identify common libraries used for data manipulation and visualization  "
   ]
  },
  {
   "cell_type": "markdown",
   "id": "3638a2c0",
   "metadata": {},
   "source": [
    "### Some of the popular languages that Data Scientists use are:\n",
    "1. Python\n",
    "2. R Program\n",
    "3. Juila"
   ]
  },
  {
   "cell_type": "markdown",
   "id": "c430b4ef",
   "metadata": {},
   "source": [
    "### Some of the commonly used libraries used by Data Scientists include:\n",
    "1. Numpy\n",
    "2. Pandas\n",
    "3. Matplotlib"
   ]
  },
  {
   "cell_type": "markdown",
   "id": "cd66d0cb",
   "metadata": {},
   "source": [
    "| Data Science Tools |\n",
    "|--------------------|\n",
    "| Jupyter Notebook |\n",
    "| Rstudio |\n",
    "| Visual studio code|"
   ]
  },
  {
   "cell_type": "markdown",
   "id": "85a1a820",
   "metadata": {},
   "source": [
    "### Below are a few examples of evaluating arithmetic expressions in Python"
   ]
  },
  {
   "cell_type": "code",
   "execution_count": 6,
   "id": "f50c1575",
   "metadata": {},
   "outputs": [
    {
     "name": "stdout",
     "output_type": "stream",
     "text": [
      "Addition: 5\n",
      "Subtraction: -1\n",
      "Multiplication: 6\n",
      "Division: 0.6666666666666666\n",
      "Exponentiation: 8\n",
      "Modulus: 2\n",
      "Floor Division: 0\n"
     ]
    }
   ],
   "source": [
    "a = 2 + 3\n",
    "b = 2 - 3\n",
    "c = 2 * 3\n",
    "d = 2 / 3\n",
    "e = 2 ** 3\n",
    "f = 2 % 3\n",
    "g = 2 // 3\n",
    "print(\"Addition:\", a)\n",
    "print(\"Subtraction:\", b)\n",
    "print(\"Multiplication:\", c)\n",
    "print(\"Division:\", d)\n",
    "print(\"Exponentiation:\", e)\n",
    "print(\"Modulus:\", f)\n",
    "print(\"Floor Division:\", g)"
   ]
  },
  {
   "cell_type": "code",
   "execution_count": 9,
   "id": "c2b2b07c",
   "metadata": {},
   "outputs": [
    {
     "data": {
      "text/plain": [
       "17"
      ]
     },
     "execution_count": 9,
     "metadata": {},
     "output_type": "execute_result"
    }
   ],
   "source": [
    "#his a simple arithmetic expression to mutiply then add integers\n",
    "(3*4)+5\n"
   ]
  },
  {
   "cell_type": "code",
   "execution_count": 10,
   "id": "43b541a6",
   "metadata": {},
   "outputs": [
    {
     "name": "stdout",
     "output_type": "stream",
     "text": [
      "200 minutes is equal to 3.3333333333333335 hours\n"
     ]
    }
   ],
   "source": [
    "#his will convert 200 minutes to hours by diving by 60\n",
    "hours = 200 / 60\n",
    "print(\"200 minutes is equal to\", hours, \"hours\")"
   ]
  },
  {
   "cell_type": "markdown",
   "id": "4fd67051",
   "metadata": {},
   "source": [
    "## Author \n",
    "Lakshmi Holla\n",
    "\n",
    "Niveditha Pandith"
   ]
  },
  {
   "cell_type": "markdown",
   "id": "7872fb05",
   "metadata": {},
   "source": []
  }
 ],
 "metadata": {
  "kernelspec": {
   "display_name": "Python 3",
   "language": "python",
   "name": "python3"
  },
  "language_info": {
   "codemirror_mode": {
    "name": "ipython",
    "version": 3
   },
   "file_extension": ".py",
   "mimetype": "text/x-python",
   "name": "python",
   "nbconvert_exporter": "python",
   "pygments_lexer": "ipython3",
   "version": "3.12.3"
  }
 },
 "nbformat": 4,
 "nbformat_minor": 5
}
